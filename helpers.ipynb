{
 "cells": [
  {
   "cell_type": "code",
   "execution_count": 1,
   "metadata": {},
   "outputs": [],
   "source": [
    "import numpy as np\n",
    "import csv\n",
    "\n",
    "def read_csv(path):\n",
    "    width = 34\n",
    "    height = 26\n",
    "    dims = 1\n",
    "\n",
    "    with open(path,'r') as f:\n",
    "        \n",
    "    #read the scv file with the dictionary format\n",
    "\n",
    "        reader = csv.DictReader(f)\n",
    "        rows = list(reader)\n",
    "\n",
    "  #imgs is a numpy array with all the images\n",
    "  #tgs is a numpy array with the tags of the images\n",
    "    imgs = np.empty((len(list(rows)),height,width, dims),dtype=np.uint8)\n",
    "    tgs = np.empty((len(list(rows)),1))\n",
    "\n",
    "    for row,i in zip(rows,range(len(rows))):\n",
    "    #convert the list back to the image format\n",
    "        img = row['image']\n",
    "        img = img.strip('[').strip(']').split(', ')\n",
    "        im = np.array(img,dtype=np.uint8)\n",
    "        im = im.reshape((height, width))\n",
    "        im = np.expand_dims(im, axis=2)\n",
    "        imgs[i] = im\n",
    "\n",
    "    #the tag for open is 1 and for close is 0\n",
    "    tag = row['state']\n",
    "    if tag == 'open':\n",
    "        tgs[i] = 1\n",
    "    else:\n",
    "        tgs[i] = 0\n",
    "\n",
    "  #shuffle the dataset\n",
    "    index = np.random.permutation(imgs.shape[0])\n",
    "    imgs = imgs[index]\n",
    "    tgs = tgs[index]\n",
    "\n",
    "  #return images and their respective tags\n",
    "    return imgs, tgs"
   ]
  },
  {
   "cell_type": "code",
   "execution_count": null,
   "metadata": {},
   "outputs": [],
   "source": []
  }
 ],
 "metadata": {
  "kernelspec": {
   "display_name": "Python 3",
   "language": "python",
   "name": "python3"
  },
  "language_info": {
   "codemirror_mode": {
    "name": "ipython",
    "version": 3
   },
   "file_extension": ".py",
   "mimetype": "text/x-python",
   "name": "python",
   "nbconvert_exporter": "python",
   "pygments_lexer": "ipython3",
   "version": "3.8.5"
  }
 },
 "nbformat": 4,
 "nbformat_minor": 4
}
